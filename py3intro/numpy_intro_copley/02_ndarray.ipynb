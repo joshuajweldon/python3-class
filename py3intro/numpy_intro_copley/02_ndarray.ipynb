{
 "cells": [
  {
   "cell_type": "markdown",
   "metadata": {},
   "source": [
    "***\n",
    "# The `ndarray` Class\n",
    "***\n",
    "## <font color=\"purple\">general</color>\n",
    "+ the basic container for scientific data\n",
    "+ fixed length array \n",
    "+ each element in array has the same data type"
   ]
  },
  {
   "cell_type": "markdown",
   "metadata": {},
   "source": [
    "## <font color=\"purple\">data types</font>\n",
    "### some available data types (can vary depending on C compiler used to compile Python)\n",
    "<img src=\"dtypes.gif\">\n",
    " \n",
    "\n",
    "### data types also have 'numeric' names (can very depending on C compiler)"
   ]
  },
  {
   "cell_type": "code",
   "execution_count": null,
   "metadata": {
    "collapsed": false
   },
   "outputs": [],
   "source": [
    "import numpy as np\n",
    "import re\n",
    "\n",
    "# do a 'directory' of the names in the numpy module and pick out the numeric data type names\n",
    "print (\"\\n\".join( name for name in dir(np) if re.search(r\"(8|16|32|64|128)$\", name)))"
   ]
  },
  {
   "cell_type": "markdown",
   "metadata": {},
   "source": [
    "## <font color=\"purple\">attributes of `ndarray`</font>\n",
    "+ `ndim  -` number of dimensions\n",
    "+ `dtype -` data type of each item (writable)\n",
    "+ `size  -` total number of items\n",
    "+ `shape -` tuple of lengths in each dimension (writable)"
   ]
  },
  {
   "cell_type": "code",
   "execution_count": null,
   "metadata": {
    "collapsed": false
   },
   "outputs": [],
   "source": [
    "a = np.arange(40)     # create 1d array with values 0 through 39\n",
    "print(a, \"\\n\")\n",
    "print(\"ndim  = {}\\ndtype = {}\\nsize  = {}\\nshape = {}\". format(\n",
    "    a.ndim, a.dtype, a.size, a.shape))"
   ]
  },
  {
   "cell_type": "markdown",
   "metadata": {},
   "source": [
    "### can write to `shape` attribute to reshape the array ...\n",
    "+ does *not* make a copy, refers to the original data\n",
    "+ can change the number and/or order of the dimensions\n",
    "+ specify -1 for a dimension to have `numpy` figure it out"
   ]
  },
  {
   "cell_type": "code",
   "execution_count": null,
   "metadata": {
    "collapsed": false
   },
   "outputs": [],
   "source": [
    "a.shape = (4, 10)\n",
    "print(a, \"\\n\")"
   ]
  },
  {
   "cell_type": "code",
   "execution_count": null,
   "metadata": {
    "collapsed": false
   },
   "outputs": [],
   "source": [
    "a.shape = (-1, 5, 4)    # setting a dimension to -1 means \"make it work\"\n",
    "print(a, \"\\n\")"
   ]
  },
  {
   "cell_type": "code",
   "execution_count": null,
   "metadata": {
    "collapsed": false
   },
   "outputs": [],
   "source": [
    "a.shape = (1, 2, 20,)\n",
    "print(a, \"\\n\")"
   ]
  },
  {
   "cell_type": "markdown",
   "metadata": {},
   "source": [
    "### ... however the `size` must remain the same \n",
    "+ otherwise throws a `ValueError` exception\n",
    "+ this can be caught with a `try`/`except` block"
   ]
  },
  {
   "cell_type": "code",
   "execution_count": null,
   "metadata": {
    "collapsed": false
   },
   "outputs": [],
   "source": [
    "try:\n",
    "    a.shape = ( 3, 2, 5)\n",
    "except ValueError as error:\n",
    "    print (\"reshape failed:\", error)\n",
    "    "
   ]
  },
  {
   "cell_type": "markdown",
   "metadata": {},
   "source": [
    "## <font color=\"purple\">Changing Data Types (casting)</font>\n",
    "\n",
    "### writing to `dtype`  will change data type, but probaby not what you want ...\n",
    "+ the bits of the underlying data are not changed\n",
    "+ resulting array just re-interprets the bit patterns\n",
    "+ the size of the array may change"
   ]
  },
  {
   "cell_type": "code",
   "execution_count": null,
   "metadata": {
    "collapsed": false
   },
   "outputs": [],
   "source": [
    "b = np.arange(24)\n",
    "b.shape = (4, 6)\n",
    "\n",
    "print(b, \"\\n\")\n",
    "b.dtype = np.float64\n",
    "print(b, \"\\n\")"
   ]
  },
  {
   "cell_type": "markdown",
   "metadata": {},
   "source": [
    "### ... to convert to new `dtype` used appropriate function data type function"
   ]
  },
  {
   "cell_type": "code",
   "execution_count": null,
   "metadata": {
    "collapsed": false
   },
   "outputs": [],
   "source": [
    "b = np.arange(24)\n",
    "b.shape = (4, 6)\n",
    "\n",
    "print(b, \"\\n\")\n",
    "\n",
    "a = np.float32(b)\n",
    "print(a, \"\\n\")"
   ]
  },
  {
   "cell_type": "markdown",
   "metadata": {
    "collapsed": false
   },
   "source": [
    "## <font color=\"purple\">arrays can also be shaped with `reshape()` or `array.reshape()`"
   ]
  },
  {
   "cell_type": "code",
   "execution_count": null,
   "metadata": {
    "collapsed": false
   },
   "outputs": [],
   "source": [
    "c = np.arange(12)\n",
    "\n",
    "print(\"\\nc\", c, sep=\"\\n\")\n",
    "print(\"\\nc as (3, 4)\", c.reshape(3, 4), sep=\"\\n\")\n",
    "print(\"\\nc as (2, 2, 3)\", np.reshape(c, (2, 2, 3)), sep=\"\\n\")\n"
   ]
  },
  {
   "cell_type": "markdown",
   "metadata": {
    "collapsed": true
   },
   "source": [
    "## <font color=\"purple\">introspection and help</font>\n",
    "+ `np.who()` lists currently existing array\n",
    "+ `%who` `%whos` `%who_ls` *magics* \n",
    "+ `dir(`*object*`)` list attributes of any object\n",
    "+ `help(`*object*`)` help on any object"
   ]
  },
  {
   "cell_type": "code",
   "execution_count": null,
   "metadata": {
    "collapsed": false
   },
   "outputs": [],
   "source": [
    "np.who()"
   ]
  },
  {
   "cell_type": "code",
   "execution_count": null,
   "metadata": {
    "collapsed": false
   },
   "outputs": [],
   "source": [
    "%who"
   ]
  },
  {
   "cell_type": "code",
   "execution_count": null,
   "metadata": {
    "collapsed": false
   },
   "outputs": [],
   "source": [
    "%whos"
   ]
  },
  {
   "cell_type": "code",
   "execution_count": null,
   "metadata": {
    "collapsed": false
   },
   "outputs": [],
   "source": [
    "%who_ls"
   ]
  },
  {
   "cell_type": "code",
   "execution_count": null,
   "metadata": {
    "collapsed": false
   },
   "outputs": [],
   "source": [
    "names = dir(a)      # get names of array's attributes \n",
    "\n",
    "# display the attributes that start with a lowercase letter\n",
    "\n",
    "for pos, name in enumerate( [ n for n in names if n[0].islower()], 0):\n",
    "    if pos % 5 == 0:\n",
    "        print()\n",
    "    print(\"{:12} \".format(name), end=\"\")\n",
    "    \n",
    "print(\"\\n\")    "
   ]
  },
  {
   "cell_type": "code",
   "execution_count": null,
   "metadata": {
    "collapsed": false
   },
   "outputs": [],
   "source": [
    "help(np.sum)"
   ]
  }
 ],
 "metadata": {
  "anaconda-cloud": {},
  "kernelspec": {
   "display_name": "Python 3",
   "language": "python",
   "name": "python3"
  },
  "language_info": {
   "codemirror_mode": {
    "name": "ipython",
    "version": 3
   },
   "file_extension": ".py",
   "mimetype": "text/x-python",
   "name": "python",
   "nbconvert_exporter": "python",
   "pygments_lexer": "ipython3",
   "version": "3.4.5"
  }
 },
 "nbformat": 4,
 "nbformat_minor": 1
}
