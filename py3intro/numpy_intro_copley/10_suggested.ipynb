{
 "cells": [
  {
   "cell_type": "markdown",
   "metadata": {},
   "source": [
    "***\n",
    "# <font color=\"purple\">Suggsted Web Sites</font>\n",
    "***\n",
    "## `pyplot` Tutorial \n",
    "https://matplotlib.org/users/pyplot_tutorial.html\n",
    "\n",
    "\n",
    "## `numpy` For MATLAB Users\n",
    "http://mathesaurus.sourceforge.net/matlab-numpy.html\n",
    "\n",
    "\n",
    "## Introduction To `pandas` With Practical Examples\n",
    "http://pythonforengineers.com/introduction-to-pandas/\n",
    "\n",
    "\n",
    "## `scipy` Cookbook\n",
    "http://scipy-cookbook.readthedocs.io/index.\n",
    "\n",
    "\n",
    "## `scipy.org` Documentation\n",
    "+ Complete `numpy` Manual\n",
    "+ `numpy` Reference Guide\n",
    "+ `numpy` User Guide\n",
    "+ `scipy` Reference Guide\n",
    "\n",
    "https://docs.scipy.org/doc/\n",
    "\n",
    "***    \n",
    "# <font color=\"purple\">Suggested Books</font>\n",
    "***\n",
    "## Learning Scientific Programming With Python\n",
    "Christian Hill, 2016<br>\n",
    "Amazon: https://www.amazon.com/Learning-Scientific-Programming-Python-Christian/dp/110742822X<br>\n",
    "Book Web Site: https://scipython.com/\n",
    "\n",
    "\n",
    "## A Primer On Scientific Programming With Python (3ed)\n",
    "Hans Petter Langtangen, 2016<br>\n",
    "https://www.amazon.com/Scientific-Programming-Computational-Science-Engineering/dp/3662498863\n",
    "\n",
    "## NumPy Cookbook (2ed)\n",
    "Ivan Irdis, 2015<br>\n",
    "Amazon: https://www.amazon.com/NumPy-Cookbook-Second-Ivan-Idris/dp/1784390941\n",
    "\n",
    "\n"
   ]
  }
 ],
 "metadata": {
  "anaconda-cloud": {},
  "kernelspec": {
   "display_name": "Python 3",
   "language": "python",
   "name": "python3"
  },
  "language_info": {
   "codemirror_mode": {
    "name": "ipython",
    "version": 3
   },
   "file_extension": ".py",
   "mimetype": "text/x-python",
   "name": "python",
   "nbconvert_exporter": "python",
   "pygments_lexer": "ipython3",
   "version": "3.4.5"
  }
 },
 "nbformat": 4,
 "nbformat_minor": 1
}
