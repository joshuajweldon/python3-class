{
 "cells": [
  {
   "cell_type": "markdown",
   "metadata": {},
   "source": [
    "***\n",
    " #  Examples Using `pandas`, `np.fft`, and `scipy.optimize`\n",
    " ***\n",
    " ## <font color=\"purple\">Demo: use `pandas` to process large CSV data set</font>\n"
   ]
  },
  {
   "cell_type": "code",
   "execution_count": null,
   "metadata": {
    "collapsed": true,
    "scrolled": false
   },
   "outputs": [],
   "source": [
    "import pandas as pd\n",
    "import numpy as np\n",
    "import matplotlib.pyplot as plt\n",
    "%matplotlib inline  \n",
    "\n",
    "from IPython.display import display, HTML, Audio"
   ]
  },
  {
   "cell_type": "markdown",
   "metadata": {},
   "source": [
    "### NOAA data for station KCOS (Colorado Springs Airport)"
   ]
  },
  {
   "cell_type": "code",
   "execution_count": null,
   "metadata": {
    "collapsed": false,
    "scrolled": true
   },
   "outputs": [],
   "source": [
    "Audio(\"http://quizdog.com/numpy/kcos_atis.wav\")"
   ]
  },
  {
   "cell_type": "markdown",
   "metadata": {
    "collapsed": false
   },
   "source": [
    "### initial look at the data\n",
    "+ `pandas` returns data as a `DataFrame`\n",
    "+ a `DataFrame` contains multiple `Series`,\n",
    "* underlying each `Series` is an `ndarray`"
   ]
  },
  {
   "cell_type": "code",
   "execution_count": null,
   "metadata": {
    "collapsed": false,
    "scrolled": false
   },
   "outputs": [],
   "source": [
    "URL = \"http://quizdog.com/numpy/kcos_temperature.csv\"\n",
    "data = pd.read_csv(URL)           # read URL into a DataFrame\n",
    "\n",
    "print (\"\\nData Types\")\n",
    "print(data.dtypes)\n",
    "\n",
    "print (\"\\nData Sample (Note: Some Missing Temperature Values (NaN)\")\n",
    "display(data[16412:16418])\n",
    "\n",
    "print (\"\\nData Description\")\n",
    "print(data.describe())"
   ]
  },
  {
   "cell_type": "code",
   "execution_count": null,
   "metadata": {
    "collapsed": false,
    "scrolled": false
   },
   "outputs": [],
   "source": [
    "print (\"\\nData Sample (Note: Weather Observations)\")\n",
    "display(data[110:120])"
   ]
  },
  {
   "cell_type": "markdown",
   "metadata": {},
   "source": [
    "### filter out everything except hourly observations (at 54 after the hour)"
   ]
  },
  {
   "cell_type": "code",
   "execution_count": null,
   "metadata": {
    "collapsed": false
   },
   "outputs": [],
   "source": [
    "data = pd.read_csv(URL)\n",
    "#data = pd.read_csv(URL, converters = {'date' : pd.to_datetime })\n",
    "\n",
    "# use Boolean indexing to select only rows where timestamp is 54 minutes after the hour\n",
    "\n",
    "hourly = data[ [timestamp.split(':')[1] == '54' for timestamp in data.date ] ]\n",
    "#hourly = data[ [timestamp.minute == 54 for timestamp in data] ]\n",
    "\n",
    "print (\"number of hourly observations:\", len(hourly))\n",
    "print (\"number of days:\", len(hourly) / 24)\n"
   ]
  },
  {
   "cell_type": "markdown",
   "metadata": {},
   "source": [
    "### some hourly observations are missing"
   ]
  },
  {
   "cell_type": "code",
   "execution_count": null,
   "metadata": {
    "collapsed": false,
    "scrolled": true
   },
   "outputs": [],
   "source": [
    "null = hourly.temp.isnull()           # True where value in temp Series is NaN (not a number) \n",
    "where = hourly.temp[null].index       # find the indices of the True values\n",
    "\n",
    "print(\"temperatures missing at:\")\n",
    "display(hourly.loc[where[0:2]])       # look at first two missing temperatures\n"
   ]
  },
  {
   "cell_type": "markdown",
   "metadata": {},
   "source": [
    "### interpolate to fill in the missing temperature values"
   ]
  },
  {
   "cell_type": "code",
   "execution_count": null,
   "metadata": {
    "collapsed": false,
    "scrolled": false
   },
   "outputs": [],
   "source": [
    "hourly = hourly.interpolate()                      # interpolate missing values\n",
    "\n",
    "print(\"interpolated temperatures:\")\n",
    "display(hourly.loc[where[0:2]])\n"
   ]
  },
  {
   "cell_type": "markdown",
   "metadata": {},
   "source": [
    "### plot the hourly temperature"
   ]
  },
  {
   "cell_type": "code",
   "execution_count": null,
   "metadata": {
    "collapsed": false,
    "scrolled": false
   },
   "outputs": [],
   "source": [
    "temp = hourly.temp.values                           # get underlying ndarray for temp\n",
    "\n",
    "average_temp = np.average(temp)                     # note: average is a universal function\n",
    "print(\"Average Temperatue: {0:.2f}\\N{DEGREE SIGN}C\".format(average_temp))\n",
    "\n",
    "plt.title(\"Hourly Temperature \\N{DEGREE SIGN}C\")\n",
    "plt.ylabel(\"Temperature \\N{DEGREE SIGN}C\")\n",
    "plt.xlabel(\"Hours Since 1/1/2007\")\n",
    "\n",
    "plt.plot(temp, 'c')                                 # plot temp data in cyan\n",
    "plt.plot(np.ones(len(temp)) * average_temp, 'r')    # draw line for average temp in red\n"
   ]
  },
  {
   "cell_type": "markdown",
   "metadata": {},
   "source": [
    "# <font color=\"purple\">Demo: Fourier Transform with `np.fft.fft`</font>"
   ]
  },
  {
   "cell_type": "code",
   "execution_count": null,
   "metadata": {
    "collapsed": true,
    "scrolled": false
   },
   "outputs": [],
   "source": [
    "ft = np.fft.fft(temp)\n",
    "ft = ft[:len(ft)//2]\n",
    "ft = abs(ft)"
   ]
  },
  {
   "cell_type": "code",
   "execution_count": null,
   "metadata": {
    "collapsed": false,
    "scrolled": false
   },
   "outputs": [],
   "source": [
    "plt.subplot(211)\n",
    "plt.axis([-5, 50, 0, 1000000])\n",
    "plt.xlabel(\"frequency (cycles / 10 years)\")\n",
    "plt.plot(ft, 'r')\n",
    "\n",
    "plt.subplot(212)\n",
    "plt.axis([-100, 5000, 0, 1000000])\n",
    "plt.xlabel(\"frequency (cycles / 10 years)\")\n",
    "plt.plot(ft, 'r')\n",
    "\n",
    "plt.tight_layout()"
   ]
  },
  {
   "cell_type": "code",
   "execution_count": null,
   "metadata": {
    "collapsed": false,
    "scrolled": false
   },
   "outputs": [],
   "source": [
    "print(\"peaks at\", np.where(ft > 100000)[0], \"cycles\")"
   ]
  },
  {
   "cell_type": "markdown",
   "metadata": {},
   "source": [
    "`0     'DC' component (average temp != 0)\n",
    "10    10 cycles / 10 years = 1 cycle / year\n",
    "3653  3653 cycles / 10 years = 365.3 cycles / year  (note remember the 3 leap days)`"
   ]
  },
  {
   "cell_type": "markdown",
   "metadata": {
    "collapsed": true
   },
   "source": [
    "## <font color=\"purple\">Demo: modify `shape` to to find average daily temperature</font>\n",
    "+ change shape to array of arrays\n",
    "+ each inner array has temperatures for one day"
   ]
  },
  {
   "cell_type": "code",
   "execution_count": null,
   "metadata": {
    "collapsed": false,
    "scrolled": false
   },
   "outputs": [],
   "source": [
    "np.average(temp[0:24])              # find average temperature of first 24 elements (ie. day 1)"
   ]
  },
  {
   "cell_type": "code",
   "execution_count": null,
   "metadata": {
    "collapsed": false,
    "scrolled": false
   },
   "outputs": [],
   "source": [
    "temp.shape = (-1, 24)               # reshape into an array of 24 element arrays (ie. a given day)\n",
    "np.average(temp[0])                 # verify first average daily temperature gives same result"
   ]
  },
  {
   "cell_type": "code",
   "execution_count": null,
   "metadata": {
    "collapsed": false,
    "scrolled": false
   },
   "outputs": [],
   "source": [
    "daily = np.average(temp, axis=1)    # vectorized average over second axis (the day)\n",
    "\n",
    "plt.title(\"Average Daily Temperature \\N{DEGREE SIGN}C\")\n",
    "plt.ylabel(\"Temperature \\N{DEGREE SIGN}C\")\n",
    "plt.xlabel(\"Days Since 1/1/2007\")\n",
    "plt.plot(daily, 'c')"
   ]
  },
  {
   "cell_type": "code",
   "execution_count": null,
   "metadata": {
    "collapsed": false,
    "scrolled": false
   },
   "outputs": [],
   "source": [
    "ft = np.fft.fft(daily)\n",
    "ft = ft[:len(ft)//2]\n",
    "ft = abs(ft)\n",
    "plt.axis([-5, 50, 0, 50000])\n",
    "plt.plot(ft, 'r')"
   ]
  },
  {
   "cell_type": "code",
   "execution_count": null,
   "metadata": {
    "collapsed": false,
    "scrolled": false
   },
   "outputs": [],
   "source": [
    "print(\"peaks at\", np.where(ft > 20000)[0], \"cycles\")"
   ]
  },
  {
   "cell_type": "markdown",
   "metadata": {},
   "source": [
    "## <font color=\"purple\">Demo: Using `scipy.optimize.leastsq` to model data with a function</font>"
   ]
  },
  {
   "cell_type": "markdown",
   "metadata": {},
   "source": [
    "## model the daily average temperature with a 4 parameter sinusoide"
   ]
  },
  {
   "cell_type": "code",
   "execution_count": null,
   "metadata": {
    "collapsed": false,
    "scrolled": false
   },
   "outputs": [],
   "source": [
    "def model(t, A, freq, phase, offset):\n",
    "    \"\"\"model function to be fitted to data\"\"\"\n",
    "    return A * np.sin(freq * t + phase) + offset\n",
    "\n",
    "first_guess = (15, 1/55, np.pi/2, 10)   # first guess for (A, freq, phase, offset) to fit data\n",
    "\n",
    "t = np.arange(0, len(daily))\n",
    "\n",
    "plt.title(\"Average Daily Temperature \\N{DEGREE SIGN}C \\nvs Model (Initial Guess)\")\n",
    "plt.ylabel(\"Temperature \\N{DEGREE SIGN}C\")\n",
    "plt.xlabel(\"Days Since 1/1/2007\")\n",
    "plt.plot(t, daily, 'c')\n",
    "plt.plot(model(t, *first_guess), 'b')"
   ]
  },
  {
   "cell_type": "markdown",
   "metadata": {},
   "source": [
    "## define error function then minimize it to better fit model to data"
   ]
  },
  {
   "cell_type": "code",
   "execution_count": null,
   "metadata": {
    "collapsed": false,
    "scrolled": false
   },
   "outputs": [],
   "source": [
    "def error(parameters, data, t):\n",
    "    \"\"\"compute the difference between the data\n",
    "        and the model function at given time t\"\"\"\n",
    "    A, freq, phase, offset = parameters\n",
    "    return data - model(t, A, freq, phase, offset)\n",
    "\n",
    "from scipy.optimize import leastsq\n",
    "\n",
    "parameters = leastsq(error, first_guess, args=(daily, t))"
   ]
  },
  {
   "cell_type": "code",
   "execution_count": null,
   "metadata": {
    "collapsed": false
   },
   "outputs": [],
   "source": [
    "print (\"best fit parameters are:\", parameters)\n"
   ]
  },
  {
   "cell_type": "code",
   "execution_count": null,
   "metadata": {
    "collapsed": false
   },
   "outputs": [],
   "source": [
    "plt.title(\"Average Daily Temperature \\N{DEGREE SIGN}C\\nvs Model (Best Fit)\")\n",
    "plt.ylabel(\"Temperature \\N{DEGREE SIGN}C\")\n",
    "plt.xlabel(\"Days Since 1/1/2007\")\n",
    "plt.plot(t, daily,'c')\n",
    "plt.plot(t, model(t, *parameters[0]), 'b')"
   ]
  }
 ],
 "metadata": {
  "anaconda-cloud": {},
  "kernelspec": {
   "display_name": "Python 3",
   "language": "python",
   "name": "python3"
  },
  "language_info": {
   "codemirror_mode": {
    "name": "ipython",
    "version": 3
   },
   "file_extension": ".py",
   "mimetype": "text/x-python",
   "name": "python",
   "nbconvert_exporter": "python",
   "pygments_lexer": "ipython3",
   "version": "3.4.5"
  }
 },
 "nbformat": 4,
 "nbformat_minor": 1
}
