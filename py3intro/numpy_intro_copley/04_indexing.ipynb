{
 "cells": [
  {
   "cell_type": "markdown",
   "metadata": {},
   "source": [
    "***\n",
    "# Indexing\n",
    "***\n",
    "## <font color=\"purple\">integer index </font>\n",
    "+ $i >= 0$ start from the beginning\n",
    "+ $i < 0$    start from the end\n",
    "+ provide an index for each dimension\n",
    "    - $array[i]$\n",
    "    - $array[i][j][k]$\n",
    "    - can simplify above with a tuple: $array[i, j, k]$\n",
    "\n",
    "### one dimensional array      "
   ]
  },
  {
   "cell_type": "code",
   "execution_count": null,
   "metadata": {
    "collapsed": false
   },
   "outputs": [],
   "source": [
    "import numpy as np\n",
    "\n",
    "nums = np.arange(20)\n",
    "print(\"\\nall nums:\", nums)\n",
    "\n",
    "# index >= 0: start from front,  index < 0: start from end\n",
    "print(\"\\nnums[0]:  {:2}    nums[5]:  {:2}\".format(nums[0], nums[5]))\n",
    "print(\"\\nnums[-4]: {:2}    nums[-1]: {:2}\".format(nums[-4], nums[-1]))"
   ]
  },
  {
   "cell_type": "markdown",
   "metadata": {},
   "source": [
    "### multi-dimensional array"
   ]
  },
  {
   "cell_type": "code",
   "execution_count": null,
   "metadata": {
    "collapsed": false
   },
   "outputs": [],
   "source": [
    "matrix = np.arange(100).reshape((10, 10))\n",
    "print(matrix)\n",
    "\n",
    "print(\"\\nmatrix[3][5]:\", matrix[3][5])    # pure Python - multiple [] pairs\n",
    "print(\"\\nmatrix[3,5]: \", matrix[3,5])     # numpy indexing - tuple of indices\n"
   ]
  },
  {
   "cell_type": "markdown",
   "metadata": {},
   "source": [
    "## <font color=\"purple\">slice index</font>\n",
    "+ can specify a slice for each dimension of the form: `start:end:step`\n",
    "+ start at `start`, go up to, but not including `end`, in steps of `step`\n",
    "+ `step` can be negative to step backwards\n",
    "+ if omitted default to: `start = 0`, `end = len(array)`, `step = 1`\n",
    "+ a slice always refers back to original values (this is called a *view*)\n"
   ]
  },
  {
   "cell_type": "code",
   "execution_count": null,
   "metadata": {
    "collapsed": false
   },
   "outputs": [],
   "source": [
    "nums = np.arange(20)\n",
    "\n",
    "print(\"\\nnums[3:15:3] =\", nums[3:15:3])\n",
    "print(\"\\nnums[3:15]   =\", nums[3:15])\n",
    "print(\"\\nnums[:15]    =\", nums[:15])\n",
    "print(\"\\nnums[3:]     =\", nums[3:])\n",
    "print(\"\\nnums[:]      =\", nums[:])\n",
    "print()\n",
    "print(\"\\nnums[15:3:-3] =\", nums[15:3:-3])\n"
   ]
  },
  {
   "cell_type": "markdown",
   "metadata": {},
   "source": [
    "### assigning to a slice\n",
    "+ you can also assign to a slice\n",
    "+ the assigned value will be broadcast across the slice\n",
    "+ be careful when assigning to a *view* as it will affect the original values"
   ]
  },
  {
   "cell_type": "code",
   "execution_count": null,
   "metadata": {
    "collapsed": false
   },
   "outputs": [],
   "source": [
    "odds = nums[1::2]            # odds is a view of the values in nums\n",
    "print(\"\\nodds = \", odds)\n",
    "\n",
    "odds[:] = 99                 # careful! assigning to a view ...\n",
    "print(\"\\nodds = \", odds)\n",
    "\n",
    "print(\"\\nnums = \", nums)     #               ... affects the original values\n"
   ]
  },
  {
   "cell_type": "markdown",
   "metadata": {},
   "source": [
    "### multi-dimensional slice\n",
    "+ omitting dimensions will act like a slice\n",
    "+ can use `:` as a 'wildcard'"
   ]
  },
  {
   "cell_type": "code",
   "execution_count": null,
   "metadata": {
    "collapsed": false
   },
   "outputs": [],
   "source": [
    "threed = np.arange(64).reshape((4, 4, 4))\n",
    "\n",
    "sep = \"\\n-----------------------\\n\"\n",
    "print(\"\\nthreed\", threed, sep=sep)\n",
    "print(\"\\nthreed[0]\", threed[0], sep=sep)\n",
    "print(\"\\nthreed[0, 0]\", threed[0, 0], sep=sep)\n"
   ]
  },
  {
   "cell_type": "code",
   "execution_count": null,
   "metadata": {
    "collapsed": false
   },
   "outputs": [],
   "source": [
    "print(\"\\nthreed[0, :, :]\", threed[0, :, :], sep=sep)\n",
    "print(\"\\nthreed[0, 0, :]\", threed[0, 0, :], sep=sep)"
   ]
  },
  {
   "cell_type": "code",
   "execution_count": null,
   "metadata": {
    "collapsed": false
   },
   "outputs": [],
   "source": [
    "print(\"\\nthreed[1:3, 0:2, 0:3:2]\", threed[1:3,0:2,0:3:2], sep=sep)\n",
    "print(\"\\nthreed[0:2:, :, 1:3]\", threed[0:2:, :, 1:3], sep=sep)\n",
    "print(\"\\nthreed[::2, 0:3, 0:3]\", threed[::2, 0:3, 0:3], sep=sep)"
   ]
  },
  {
   "cell_type": "markdown",
   "metadata": {},
   "source": [
    "## <font color=\"purple\">boolean index</font>\n",
    "+ index is an array of Booleans\n",
    "+ return values from indexed array only where index is `True`\n",
    "+ relational operators:  `<`, `<=`, `>`, `>=`, `in`, `not in`\n",
    "+ boolean operations: `&` (and), `!` (or), `~` (not), `^` (xor)\n",
    "+ returns a **copy** of the original values (unlike a slice)\n",
    "+ leap year example"
   ]
  },
  {
   "cell_type": "code",
   "execution_count": null,
   "metadata": {
    "collapsed": false
   },
   "outputs": [],
   "source": [
    "nums = np.arange(-10, 10)\n",
    "\n",
    "div5 = nums % 5 == 0\n",
    "print(div5)"
   ]
  },
  {
   "cell_type": "code",
   "execution_count": null,
   "metadata": {
    "collapsed": false
   },
   "outputs": [],
   "source": [
    "even = nums[nums % 2 == 0]\n",
    "positive = nums[nums > 0]\n",
    "range1 = nums[(nums >  3) & (nums <= 9)]  # parentheses required because of precedence\n",
    "range2 = nums[(nums < -5) | (nums >  5)]\n",
    "\n",
    "print('\\neven     =', even)\n",
    "print('\\npositive =', positive)\n",
    "print('\\nrange1   =', range1)\n",
    "print('\\nrange2   =', range2)\n"
   ]
  },
  {
   "cell_type": "code",
   "execution_count": null,
   "metadata": {
    "collapsed": false
   },
   "outputs": [],
   "source": [
    "data = np.array([ 10.2, np.nan, 8.0, 7.5, 11.3, 7.5, np.nan, 12.1, 12.5, 9.3 ])\n",
    "\n",
    "print(\"average of unfiltered data is:\", np.average(data),\"\\n\")\n",
    "print(\"average of filtered data is:  \", np.average(data[~ np.isnan(data)]), \"\\n\")"
   ]
  },
  {
   "cell_type": "markdown",
   "metadata": {},
   "source": [
    "### Example: leap years"
   ]
  },
  {
   "cell_type": "code",
   "execution_count": null,
   "metadata": {
    "collapsed": false
   },
   "outputs": [],
   "source": [
    "years = np.arange(1600, 2101)\n",
    "\n",
    "leap_years = years[ (years % 400 == 0) | (years % 4 == 0) & ~(years % 100 == 0) ]\n",
    "print(leap_years)"
   ]
  },
  {
   "cell_type": "markdown",
   "metadata": {},
   "source": [
    "## <font color=\"purple\">array index</font>\n",
    "1. index is an array of integers\n",
    "2. resulting array is same shape as the index array\n",
    "3. essentially a lookup table\n",
    "4. returns a **copy** of the original values (unlike a slice)\n",
    "            "
   ]
  },
  {
   "cell_type": "code",
   "execution_count": null,
   "metadata": {
    "collapsed": false
   },
   "outputs": [],
   "source": [
    "x = np.arange(1000) * 3\n",
    "\n",
    "i =  np.array(\n",
    "    [[10,  30 ],\n",
    "     [40, 100 ]])\n",
    "\n",
    "\n",
    "results = x[i]\n",
    "print (results)"
   ]
  }
 ],
 "metadata": {
  "anaconda-cloud": {},
  "kernelspec": {
   "display_name": "Python 3",
   "language": "python",
   "name": "python3"
  },
  "language_info": {
   "codemirror_mode": {
    "name": "ipython",
    "version": 3
   },
   "file_extension": ".py",
   "mimetype": "text/x-python",
   "name": "python",
   "nbconvert_exporter": "python",
   "pygments_lexer": "ipython3",
   "version": "3.4.5"
  }
 },
 "nbformat": 4,
 "nbformat_minor": 1
}
