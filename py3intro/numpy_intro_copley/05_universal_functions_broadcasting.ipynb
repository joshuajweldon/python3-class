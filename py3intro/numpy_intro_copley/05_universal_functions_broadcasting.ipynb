{
 "cells": [
  {
   "cell_type": "markdown",
   "metadata": {},
   "source": [
    "***\n",
    "# Universal Functions/Operators and Broadcasting\n",
    "***\n",
    "## <font color=\"purple\">`numpy` provides *vectorized* versions of functions</font>\n",
    "+ when a function (or operator) is applied to an array there is an implied loop over the elements in the array\n",
    "+ the loop is performed by highly optimized C code, so is very fast\n",
    "+ the C code often can release the **GIL** (global interpreter lock) allowing true multithreading\n",
    "\n",
    "## <font color=\"purple\">some of the many `numpy` functions</font>"
   ]
  },
  {
   "cell_type": "markdown",
   "metadata": {},
   "source": [
    "### Statistics Functions: \n",
    "https://docs.scipy.org/doc/numpy/reference/routines.statistics.html\n",
    ">`amin amax nanmin nanmax`<br>\n",
    " `median average mean std var`<br>\n",
    " `corrcoef correlate cov`<br>\n",
    " `histogram bincount digitize`\n",
    " \n",
    "### Array Manipulation Functions: \n",
    "https://docs.scipy.org/doc/numpy/reference/routines.array-manipulation.html\n",
    ">`copyto reshape ravel`<br>\n",
    " `moveaxis rollaxis swapaxes transpose`<br>\n",
    " `concatenate stack dstack hstack vstack`<br>\n",
    " `tile repeat`<br>\n",
    " `delete insert append resize unique`<br>\n",
    " `flip roll rot90`\n",
    "\n",
    "### Logic Functions: \n",
    "https://docs.scipy.org/doc/numpy/reference/routines.logic.html\n",
    ">`all any`<br>\n",
    " `isnan isfinite isinf`<br>\n",
    " `iscomplex isreal isscalar`<br>\n",
    " `allclose isclose array_equal greater less`\n",
    "\n",
    "### Mathematical Functions: \n",
    "https://docs.scipy.org/doc/numpy/reference/routines.math.html\n",
    ">`sin cos tan arcsin arccos arctan hypot radians degrees`<br>\n",
    " `exp exp2 log log2 log10`<br>\n",
    " `diff sum prod sum cumcum cumprod diff`<br>\n",
    " `angle real imag conj` <br>\n",
    " `convolve sqrt square absolute`\n",
    "\n",
    "### And Many, Many, Many More: \n",
    "https://docs.scipy.org/doc/numpy/reference/routines.html\n",
    "> financial functions, random sampling, Fourier transforms, sets, input/output<br>\n",
    "  polynomial computations, linear algebra, sorting, searching, counting<br>\n"
   ]
  },
  {
   "cell_type": "markdown",
   "metadata": {},
   "source": [
    "### Example: some functions for simple statistics"
   ]
  },
  {
   "cell_type": "code",
   "execution_count": null,
   "metadata": {
    "collapsed": false
   },
   "outputs": [],
   "source": [
    "import numpy as np\n",
    "import matplotlib.pyplot as plt\n",
    "%matplotlib inline\n",
    "\n",
    "scores = np.array([ 100, 100, 86, 75, 92, 51, 100, 65, 34, 100, 79, 70, 89, 23])\n",
    "\n",
    "print(\"average score is:     \", np.average(scores))    # np.average same as np.mean\n",
    "print(\"median score is:      \", np.median(scores))\n",
    "print(\"standard deviation is:\", np.std(scores))\n",
    "print(\"highest score is:     \", np.max(scores))\n",
    "print(\"lowest score is:      \", np.min(scores))\n"
   ]
  },
  {
   "cell_type": "markdown",
   "metadata": {},
   "source": [
    "## <font color=\"purple\">operators are overloaded with vectorized versions as well</font>\n",
    "### vectorized addition (`+`)"
   ]
  },
  {
   "cell_type": "code",
   "execution_count": null,
   "metadata": {
    "collapsed": false
   },
   "outputs": [],
   "source": [
    "start = np.array ( [[1, 4], [2, -1], [8, 2], [-2, -3], [7, 3], [ 2,  2]] )\n",
    "move  = np.array ( [[1, 1], [2, -2], [3, 0], [ 0,  8], [1, 5], [-1, -2]] )\n",
    "\n",
    "end = start + move       # + = vectorized addition\n",
    "\n",
    "print(\"\\nstart at:  \", start, sep=\"\\n\")\n",
    "print(\"\\nend up at: \", end,   sep=\"\\n\")"
   ]
  },
  {
   "cell_type": "markdown",
   "metadata": {},
   "source": [
    "## <font color=purple>Demo: Amplitude Modulation</font>\n",
    "### vectorized multiplication (`*`),  division (`/`), modulo (`%`), and negation (`-`)"
   ]
  },
  {
   "cell_type": "code",
   "execution_count": null,
   "metadata": {
    "collapsed": false
   },
   "outputs": [],
   "source": [
    "t = np.arange(0, 10 * np.pi, .05)\n",
    "\n",
    "carrier = np.sin(t * 10)       # pure sine wave\n",
    "\n",
    "signal = (t % 10) / 10         # sawtooth wave \n",
    "\n",
    "am_signal = carrier * signal   # amplitude modulated (A.M.) signal\n",
    "\n",
    "plt.subplot(311)\n",
    "plt.axis((0, 650, -1.2,  1.2))\n",
    "plt.title('signal')\n",
    "plt.plot(signal, 'b')\n",
    "\n",
    "plt.subplot(312)\n",
    "plt.axis((0, 650, -1.2,  1.2))\n",
    "plt.title('carrier')\n",
    "plt.plot(carrier, 'r')\n",
    "\n",
    "plt.subplot(313)\n",
    "plt.axis((0, 650, -1.2,  1.2))\n",
    "plt.title('transmission')\n",
    "plt.plot(am_signal, 'g')\n",
    "\n",
    "plt.tight_layout()"
   ]
  },
  {
   "cell_type": "markdown",
   "metadata": {},
   "source": [
    "## <font color=\"purple\">Broadcasting</font>\n",
    "+ function and/or operator arguments are not always the same shape\n",
    "+ example from above: `signal = (t % 10) / 10`, `t` is a 1D array, `10` is a scalar\n",
    "+ if shapes don't match `numpy` will try to conform by *broadcasting* the 'smaller' item"
   ]
  },
  {
   "cell_type": "markdown",
   "metadata": {},
   "source": [
    "### broadcasting against a 1D array"
   ]
  },
  {
   "cell_type": "code",
   "execution_count": null,
   "metadata": {
    "collapsed": false
   },
   "outputs": [],
   "source": [
    "a = np.arange(5)\n",
    "\n",
    "x = a + 5                               # broadcast by repeating 5\n",
    "y = a + np.array( [10] )                # broadcast by repeating [10]\n",
    "z = a + np.array( [2, 4, 6, 8, 10] )    # already same shape\n",
    "print(\"\\na\", a, sep=\"\\n\")\n",
    "print(\"\\nx\", x, sep=\"\\n\")\n",
    "print(\"\\ny\", y, sep=\"\\n\")\n",
    "print(\"\\nz\", z, sep=\"\\n\")\n"
   ]
  },
  {
   "cell_type": "markdown",
   "metadata": {},
   "source": [
    "### broadcast against a 2D array"
   ]
  },
  {
   "cell_type": "code",
   "execution_count": null,
   "metadata": {
    "collapsed": false
   },
   "outputs": [],
   "source": [
    "a = np.arange(12).reshape(3, 4)\n",
    "\n",
    "x = a * 2                               # broadcast by repeating 2\n",
    "y = a * np.array( [2, -1, 3, 0])        # broadcast by repeating 1D array\n",
    "z = a * np.ones((3, 4))                 # already same shape, note: one array defaults to float\n",
    "\n",
    "print(\"\\na\",  a, sep=\"\\n\")\n",
    "print(\"\\nx\", x, sep=\"\\n\")\n",
    "print(\"\\ny\", y, sep=\"\\n\")\n",
    "print(\"\\nz\", z, sep=\"\\n\")"
   ]
  },
  {
   "cell_type": "markdown",
   "metadata": {},
   "source": [
    "## <font color=\"purple\">Broadcasting Is Possible If:</font>\n",
    "1. the arrays all have exactly the same shape\n",
    "2. the arrays have the same number of dimensions and<br> the length of each dimension is\n",
    "  either a common length or `1`\n",
    "3. the array with fewer dimensions can have its shape prepended with `1` to satisfy property 2."
   ]
  },
  {
   "cell_type": "markdown",
   "metadata": {},
   "source": [
    "### assignment also supports broadcasting"
   ]
  },
  {
   "cell_type": "code",
   "execution_count": null,
   "metadata": {
    "collapsed": false
   },
   "outputs": [],
   "source": [
    "a = np.zeros((4, 4))\n",
    "\n",
    "a[0, 0] = 1                         # already same shape\n",
    "print(\"\\na\",  a, sep=\"\\n\")"
   ]
  },
  {
   "cell_type": "code",
   "execution_count": null,
   "metadata": {
    "collapsed": false
   },
   "outputs": [],
   "source": [
    "a[1] = 2                            # broadcast 2 to fill row\n",
    "print(\"\\na\",  a, sep=\"\\n\")"
   ]
  },
  {
   "cell_type": "code",
   "execution_count": null,
   "metadata": {
    "collapsed": false
   },
   "outputs": [],
   "source": [
    "a[:, 2] = 3                         # broadcast 3 to fill column\n",
    "print(\"\\na\",  a, sep=\"\\n\")"
   ]
  },
  {
   "cell_type": "code",
   "execution_count": null,
   "metadata": {
    "collapsed": false
   },
   "outputs": [],
   "source": [
    "a[2:, 0:2] = 4                       # broadcast 4 to fill square\n",
    "print(\"\\na\",  a, sep=\"\\n\")"
   ]
  },
  {
   "cell_type": "code",
   "execution_count": null,
   "metadata": {
    "collapsed": false
   },
   "outputs": [],
   "source": [
    "a[1:3, 0:3] = np.ones((2, 1)) * 5    # broadcast [[5], to fill rectangle\n",
    "print(\"\\na\",  a, sep=\"\\n\")           #            [5]] "
   ]
  }
 ],
 "metadata": {
  "anaconda-cloud": {},
  "kernelspec": {
   "display_name": "Python 3",
   "language": "python",
   "name": "python3"
  },
  "language_info": {
   "codemirror_mode": {
    "name": "ipython",
    "version": 3
   },
   "file_extension": ".py",
   "mimetype": "text/x-python",
   "name": "python",
   "nbconvert_exporter": "python",
   "pygments_lexer": "ipython3",
   "version": "3.4.5"
  }
 },
 "nbformat": 4,
 "nbformat_minor": 1
}
