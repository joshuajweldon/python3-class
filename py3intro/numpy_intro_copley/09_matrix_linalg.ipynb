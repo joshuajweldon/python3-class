{
 "cells": [
  {
   "cell_type": "markdown",
   "metadata": {},
   "source": [
    "***\n",
    "# matrices (vs arrays)\n",
    "***\n",
    "## <font color=\"purple\">`matrix` basics</font>\n",
    "+ for linear algebra applications `matrix` class may be more familiar than `ndarray`\n",
    "+ `matrix` object has exactly 2 dimensions\n",
    "+ behind the scenes the data still stored in an `ndarray`\n",
    "+ `*` operator overloaded as matrix multiplication \n",
    "    + `A = M * x    -`  `matrix` version\n",
    "    + `A = M.dot(x) -`  `ndarray` version\n",
    "+ `**` operator overloaded as matrix exponentiation"
   ]
  },
  {
   "cell_type": "code",
   "execution_count": null,
   "metadata": {
    "collapsed": false
   },
   "outputs": [],
   "source": [
    "import numpy as np\n",
    "np.set_printoptions(suppress=True, precision=4)  # display small values as 0\n",
    "\n",
    "M = np.matrix([[1, 2, 3],\n",
    "               [4, 5, 6],\n",
    "               [7, 8, 9]])\n",
    "\n",
    "x = np.matrix([[3],\n",
    "               [-1],\n",
    "               [7]])\n",
    "\n",
    "A = M * x\n",
    "print(\"\\nM * x\", A, sep=\"\\n\")"
   ]
  },
  {
   "cell_type": "code",
   "execution_count": null,
   "metadata": {
    "collapsed": false
   },
   "outputs": [],
   "source": [
    "print(\"\\nM\\N{SUPERSCRIPT THREE} with repeated multiplication\", M * M * M, sep=\"\\n\")\n",
    "print(\"\\nM\\N{SUPERSCRIPT THREE} with exponentiation\", M ** 3, sep=\"\\n\")"
   ]
  },
  {
   "cell_type": "markdown",
   "metadata": {},
   "source": [
    "## <font color=\"purple\">Useful Attributes</font>\n",
    "+ `matrix.T`  = matrix transposed\n",
    "+ `matrix.I`  = matrix inverted\n",
    "+ `matrix.A`  = underlying `array` with same shape\n",
    "+ `matrix.A1` = underlying `array` flattend \n",
    "+ standard `array` attributes (`size`, `shape`, `ndim`, `dtype` also available"
   ]
  },
  {
   "cell_type": "code",
   "execution_count": null,
   "metadata": {
    "collapsed": false
   },
   "outputs": [],
   "source": [
    "print(\"\\nM transposed\", M.T, sep=\"\\n\")\n",
    "print(\"\\nM inverted\", M.I, sep=\"\\n\")            # note this matrix is very close to singular!\n",
    "print(\"\\nM's array\", M.A, sep=\"\\n\")             # note: same shape\n",
    "print(\"\\nM's array flattened\", M.A1, sep=\"\\n\") "
   ]
  },
  {
   "cell_type": "markdown",
   "metadata": {},
   "source": [
    "## <font color=\"purple\">some useful functions from `linalg` module</font>\n",
    "+ `linalg.det(M)      -` find the deterimant\n",
    "+ `linalg.solve(M, b) -` solves $\\M * x = B for x`\n",
    "+ `linalg.inv(M)       # inverted M (same as M.I)`\n",
    "+ `linalg.eig(M)       # eigenvalues and vectors`\n",
    "+ many functions use the venerable `LAPACK` code (most recently rewritten in `FORTRAN 90`)\n",
    "\n",
    "### determinant and matrix inversion"
   ]
  },
  {
   "cell_type": "code",
   "execution_count": null,
   "metadata": {
    "collapsed": false
   },
   "outputs": [],
   "source": [
    "from numpy import linalg\n",
    "\n",
    "\n",
    "det = linalg.det(M)\n",
    "print (\"\\ndeterminant(M) = \", det)\n",
    "if np.abs(det) < 1e-14:\n",
    "    print (\"note: matrix is nearly singular!\")"
   ]
  },
  {
   "cell_type": "code",
   "execution_count": null,
   "metadata": {
    "collapsed": false
   },
   "outputs": [],
   "source": [
    "print(\"\\nM * inv(M)\", M * M.I, sep=\"\\n\")    # nearly singular matrix - results wrong!"
   ]
  },
  {
   "cell_type": "code",
   "execution_count": null,
   "metadata": {
    "collapsed": false
   },
   "outputs": [],
   "source": [
    "N = M                   # make a better conditioned matrix\n",
    "N[2, 2] = 10\n",
    "\n",
    "det = linalg.det(N)\n",
    "print (\"\\ndeterminant(N) = \", det)"
   ]
  },
  {
   "cell_type": "code",
   "execution_count": null,
   "metadata": {
    "collapsed": false
   },
   "outputs": [],
   "source": [
    "print(\"\\nN * inv(N)\", N * N.I, sep=\"\\n\")    # well conditioned matrix"
   ]
  },
  {
   "cell_type": "markdown",
   "metadata": {},
   "source": [
    "### solve system of equations $\\boldsymbol{N}\\vec{x} = \\vec{y}$ for $\\vec{x}$"
   ]
  },
  {
   "cell_type": "code",
   "execution_count": null,
   "metadata": {
    "collapsed": false
   },
   "outputs": [],
   "source": [
    "y = np.matrix([[-2], [-5], [-5]])\n",
    "x = linalg.solve(N, y)\n",
    "\n",
    "print(\"\\nN\", N, sep=\"\\n\")\n",
    "print(\"\\ny\", y, sep=\"\\n\")\n",
    "print(\"\\nsolve for x in N * x = b\", x, sep=\"\\n\")\n",
    "print(\"\\nverify against M * x = b\", M * x, sep=\"\\n\")"
   ]
  },
  {
   "cell_type": "markdown",
   "metadata": {},
   "source": [
    "### eigenvalues ($\\lambda_i$) and eigenvectors ($\\vec{\\nu_i}$) such that: $\\boldsymbol{A}\\vec{\\nu_i} = \\lambda_i\\vec{\\nu_i}$"
   ]
  },
  {
   "cell_type": "code",
   "execution_count": null,
   "metadata": {
    "collapsed": false
   },
   "outputs": [],
   "source": [
    "A = np.matrix([[-150, 334, 778],\n",
    "               [ -89, 195, 464],\n",
    "               [   5, -10, -27]])\n",
    "\n",
    "values, vectors = linalg.eig(A)\n",
    "e1, e2, e3 = values\n",
    "v1, v2, v3 = vectors[:, 0], vectors[:, 1], vectors[:, 2]\n",
    "\n",
    "print(\"\\neigenvalues = \", values)\n",
    "\n",
    "print(\"\\nA * v1\", A * v1, sep=\"\\n\")\n",
    "print(\"\\ne1 * v1\", e1 * v1, sep =\"\\n\")"
   ]
  },
  {
   "cell_type": "code",
   "execution_count": null,
   "metadata": {
    "collapsed": true
   },
   "outputs": [],
   "source": []
  }
 ],
 "metadata": {
  "anaconda-cloud": {},
  "kernelspec": {
   "display_name": "Python 3",
   "language": "python",
   "name": "python3"
  },
  "language_info": {
   "codemirror_mode": {
    "name": "ipython",
    "version": 3
   },
   "file_extension": ".py",
   "mimetype": "text/x-python",
   "name": "python",
   "nbconvert_exporter": "python",
   "pygments_lexer": "ipython3",
   "version": "3.4.5"
  }
 },
 "nbformat": 4,
 "nbformat_minor": 1
}
