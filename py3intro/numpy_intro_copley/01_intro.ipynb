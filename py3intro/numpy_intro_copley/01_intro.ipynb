{
 "cells": [
  {
   "cell_type": "markdown",
   "metadata": {},
   "source": [
    "# Introduction\n",
    "\n",
    "## <font color=\"purple\">Scientific Python</font>\n",
    "+ `numpy      -`  low level, high speed, number crunching, written in C and Fortran\n",
    "+ `matplotlib - ` high quality graphing and visualization\n",
    "+ `scipy      - ` high level conputations, eg. optimization, signal processing, special functions\n",
    "+ `pandas     - ` ingesting, filtering, manipulating very large data sets\n",
    "\n",
    "## <font color=\"purple\">user Interface</font>\n",
    "+ `python`\n",
    "    + run program \n",
    "    + interactive shell\n",
    "+ `ipython`\n",
    "    + interactive shell with many extra features\n",
    "    + %*magics* (macros)\n",
    "    + supports a variety of graphics backends\n",
    "    + provides notebook mode - now called `jupyter notebook`\n",
    "+ `jupyter notebook`\n",
    "    + Julia + Python + R\n",
    "    + web based notebook interface (like MATLAB or Mathematica\n",
    "    + supports code, markup, inline visualization, widgets\n",
    "    \n",
    "## <font color=\"purple\">`pylab` mode</font>\n",
    "+ imports from `numpy` and `matplotlib.pyplot`\n",
    "+ familiar to MATLAB users (`plot`, `subplot`, `show`, `contour`, `figure`, ...)\n",
    "+ dumps lots of symbols into namespace\n",
    "\n",
    "## <font color=\"purple\">recommended approach</font>\n",
    "\n",
    "### imports\n",
    "+ `import numpy as np`\n",
    "+ `import matplotlib.pyplot as plt`\n",
    "+ `import pandas as pd`\n",
    "\n",
    "### display\n",
    "+ `%matplotlib inline` for notebook\n",
    "+ `plot.show()` for script"
   ]
  }
 ],
 "metadata": {
  "anaconda-cloud": {},
  "kernelspec": {
   "display_name": "Python 3",
   "language": "python",
   "name": "python3"
  },
  "language_info": {
   "codemirror_mode": {
    "name": "ipython",
    "version": 3
   },
   "file_extension": ".py",
   "mimetype": "text/x-python",
   "name": "python",
   "nbconvert_exporter": "python",
   "pygments_lexer": "ipython3",
   "version": "3.4.5"
  }
 },
 "nbformat": 4,
 "nbformat_minor": 1
}
