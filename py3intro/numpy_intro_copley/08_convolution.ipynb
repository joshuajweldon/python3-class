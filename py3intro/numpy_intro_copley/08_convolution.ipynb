{
 "cells": [
  {
   "cell_type": "markdown",
   "metadata": {},
   "source": [
    "***\n",
    "# Using `scipy.signal.convolve()` For John Conway's Life\n",
    "<br>\n",
    "<img src=\"life.png\">\n",
    "***"
   ]
  },
  {
   "cell_type": "code",
   "execution_count": null,
   "metadata": {
    "collapsed": true
   },
   "outputs": [],
   "source": [
    "import numpy as np\n",
    "import scipy.signal\n",
    "import matplotlib.pyplot as plt\n",
    "from IPython import display\n",
    "import time\n",
    "%matplotlib inline"
   ]
  },
  {
   "cell_type": "markdown",
   "metadata": {},
   "source": [
    "## create a 3 x 3 kernel for two dimensional convolution"
   ]
  },
  {
   "cell_type": "code",
   "execution_count": null,
   "metadata": {
    "collapsed": true
   },
   "outputs": [],
   "source": [
    "dim = 10\n",
    "\n",
    "kernel = np.ones((3, 3), dtype=np.int16)     #   1  1  1\n",
    "kernel[1,1] = 9                              #   1  9  1\n",
    "                                             #   1  1  1"
   ]
  },
  {
   "cell_type": "markdown",
   "metadata": {},
   "source": [
    "## create lookup table to map convolution value to next generation"
   ]
  },
  {
   "cell_type": "code",
   "execution_count": null,
   "metadata": {
    "collapsed": true
   },
   "outputs": [],
   "source": [
    "lookup = np.zeros(18, dtype = np.int16)\n",
    "lookup [[3, 11, 12]] = 1   # dead with 3 neighbors or live with 2/3 neighbors"
   ]
  },
  {
   "cell_type": "markdown",
   "metadata": {},
   "source": [
    "## create a field where cells 'live'"
   ]
  },
  {
   "cell_type": "code",
   "execution_count": null,
   "metadata": {
    "collapsed": false
   },
   "outputs": [],
   "source": [
    "field = np.zeros((dim,  dim), dtype=np.int16)\n",
    "\n",
    "field[1, 2] = 1     # draw a 'glider'\n",
    "field[2, 3] = 1     #\n",
    "field[3, 1] = 1     #    *\n",
    "field[3, 2] = 1     #     *\n",
    "field[3, 3] = 1     #   ***\n",
    "\n",
    "# show current field\n",
    "plt.imshow(field, interpolation=\"none\")"
   ]
  },
  {
   "cell_type": "markdown",
   "metadata": {},
   "source": [
    "## play the game\n",
    "+ show the current field\n",
    "+ convolve with kernel to check nearest neighbors\n",
    "+ use convolution results to lookup next generation\n",
    "* repeat ..."
   ]
  },
  {
   "cell_type": "code",
   "execution_count": null,
   "metadata": {
    "collapsed": false
   },
   "outputs": [],
   "source": [
    "for i in range(41):\n",
    "\n",
    "    plt.imshow(field, interpolation=\"none\")\n",
    "    display.display(plt.gcf())\n",
    "    display.clear_output(wait=True)\n",
    "    #time.sleep(.05)\n",
    "    \n",
    "    # convolve field with kernel giving same size results, field wraps on edges\n",
    "    field = scipy.signal.convolve2d(field, kernel, mode=\"same\", boundary=\"wrap\")\n",
    "\n",
    "    # decide which cells are present in the next generation\n",
    "    field = lookup[field]"
   ]
  },
  {
   "cell_type": "code",
   "execution_count": null,
   "metadata": {
    "collapsed": true
   },
   "outputs": [],
   "source": []
  },
  {
   "cell_type": "code",
   "execution_count": null,
   "metadata": {
    "collapsed": true
   },
   "outputs": [],
   "source": []
  },
  {
   "cell_type": "code",
   "execution_count": null,
   "metadata": {
    "collapsed": true
   },
   "outputs": [],
   "source": []
  },
  {
   "cell_type": "code",
   "execution_count": null,
   "metadata": {
    "collapsed": true
   },
   "outputs": [],
   "source": []
  },
  {
   "cell_type": "code",
   "execution_count": null,
   "metadata": {
    "collapsed": true
   },
   "outputs": [],
   "source": []
  },
  {
   "cell_type": "code",
   "execution_count": null,
   "metadata": {
    "collapsed": true
   },
   "outputs": [],
   "source": []
  }
 ],
 "metadata": {
  "anaconda-cloud": {},
  "kernelspec": {
   "display_name": "Python 3",
   "language": "python",
   "name": "python3"
  },
  "language_info": {
   "codemirror_mode": {
    "name": "ipython",
    "version": 3
   },
   "file_extension": ".py",
   "mimetype": "text/x-python",
   "name": "python",
   "nbconvert_exporter": "python",
   "pygments_lexer": "ipython3",
   "version": "3.4.5"
  }
 },
 "nbformat": 4,
 "nbformat_minor": 1
}
