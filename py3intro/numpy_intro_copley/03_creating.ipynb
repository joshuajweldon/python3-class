{
 "cells": [
  {
   "cell_type": "markdown",
   "metadata": {},
   "source": [
    "***\n",
    "# `ndarray` creation\n",
    "***"
   ]
  },
  {
   "cell_type": "code",
   "execution_count": null,
   "metadata": {
    "collapsed": false
   },
   "outputs": [],
   "source": [
    "import numpy as np\n",
    "import matplotlib.pyplot as plt\n",
    "%matplotlib inline"
   ]
  },
  {
   "cell_type": "markdown",
   "metadata": {},
   "source": [
    "## <font color=\"purple\">create from a Python list</font>\n",
    "### a list produces a 1 dimensional array"
   ]
  },
  {
   "cell_type": "code",
   "execution_count": null,
   "metadata": {
    "collapsed": false
   },
   "outputs": [],
   "source": [
    "scores = np.array([10, 5, 8, 10, 9, 3, 4, 11])"
   ]
  },
  {
   "cell_type": "code",
   "execution_count": null,
   "metadata": {
    "collapsed": false
   },
   "outputs": [],
   "source": [
    "print(\"values =\", scores)\n",
    "print(\"size   =\", scores.size)\n",
    "print(\"shape  =\", scores.shape)\n",
    "print(\"ndim   =\", scores.ndim)\n",
    "print(\"dtype  =\", scores.dtype)"
   ]
  },
  {
   "cell_type": "markdown",
   "metadata": {},
   "source": [
    "### a list of lists produces a 2 dimensional array, *et cetera*"
   ]
  },
  {
   "cell_type": "code",
   "execution_count": null,
   "metadata": {
    "collapsed": false
   },
   "outputs": [],
   "source": [
    "matrix = np.array([[ 4.7,  10.5,  8.3,  8.9],     # lists of list gives 2D array \n",
    "                   [ 10.4,  8.9, 11.2, 34.3],     # note: nicely aligned formatting is  \n",
    "                   [ 7.4,   2.5, 48.1,  1.4]])    # optional, but good for readability\n",
    "print(matrix)\n",
    "print(\"size   =\", matrix.size)\n",
    "print(\"shape  =\", matrix.shape)\n",
    "print(\"ndim   =\", matrix.ndim)\n",
    "print(\"dtype  =\", matrix.dtype)"
   ]
  },
  {
   "cell_type": "markdown",
   "metadata": {},
   "source": [
    "## <font color=\"purple\">create using `zeros()`, `ones()`, `eye()`, or `empty()`</font>"
   ]
  },
  {
   "cell_type": "code",
   "execution_count": null,
   "metadata": {
    "collapsed": false
   },
   "outputs": [],
   "source": [
    "a = np.zeros(10)            # size = 10\n",
    "print(a)"
   ]
  },
  {
   "cell_type": "code",
   "execution_count": null,
   "metadata": {
    "collapsed": false
   },
   "outputs": [],
   "source": [
    "b = np.ones((3, 6))         # shape tuple\n",
    "print(b)"
   ]
  },
  {
   "cell_type": "code",
   "execution_count": null,
   "metadata": {
    "collapsed": false
   },
   "outputs": [],
   "source": [
    "d = np.ones((2, 3, 7), dtype=np.int16)   # can specify datatype\n",
    "print(d)"
   ]
  },
  {
   "cell_type": "code",
   "execution_count": null,
   "metadata": {
    "collapsed": false
   },
   "outputs": [],
   "source": [
    "i1 = np.eye(4)               # eye-dentity matrix\n",
    "i2 = np.eye(5, 4, k=1)       # 5 rows, 4 cols, first upper diagonal\n",
    "\n",
    "print(\"\\nsquare identity matrix\", i1, sep=\"\\n\")\n",
    "print(\"\\nnon-square off diagonal, identity matrix\", i2, sep=\"\\n\")"
   ]
  },
  {
   "cell_type": "code",
   "execution_count": null,
   "metadata": {
    "collapsed": false
   },
   "outputs": [],
   "source": [
    "c = np.empty((10, 3))       # uninitialized memory \n",
    "print(c)"
   ]
  },
  {
   "cell_type": "markdown",
   "metadata": {},
   "source": [
    "## <font color=\"purple\">create using `arange()` with perhaps a `reshape()` thrown in</font>"
   ]
  },
  {
   "cell_type": "code",
   "execution_count": null,
   "metadata": {
    "collapsed": false
   },
   "outputs": [],
   "source": [
    "a = np.arange(7, 39, 4)     # start (inclusive), stop (exclusive), step\n",
    "print(a)"
   ]
  },
  {
   "cell_type": "code",
   "execution_count": null,
   "metadata": {
    "collapsed": false
   },
   "outputs": [],
   "source": [
    "b = np.arange(8.0)          # infers type from argument\n",
    "print(b)                    # defaults start = 0, step = 1"
   ]
  },
  {
   "cell_type": "code",
   "execution_count": null,
   "metadata": {
    "collapsed": false
   },
   "outputs": [],
   "source": [
    "c = np.arange(100).reshape((10, 10))   # shape tuple\n",
    "print(c)"
   ]
  },
  {
   "cell_type": "code",
   "execution_count": null,
   "metadata": {
    "collapsed": false
   },
   "outputs": [],
   "source": [
    "d = np.arange(0, 27).reshape((3, 3, 3))\n",
    "print(d)"
   ]
  },
  {
   "cell_type": "markdown",
   "metadata": {},
   "source": [
    "## <font color=\"purple\">create using `linspace()` (for linearly spaced values)</font>"
   ]
  },
  {
   "cell_type": "code",
   "execution_count": null,
   "metadata": {
    "collapsed": false
   },
   "outputs": [],
   "source": [
    "x = np.linspace(0, np.pi * 20)    # defaults: 50 values, include endpoint\n",
    "y = np.sin(x)                     # universal function sin(x) applied at each point\n",
    "plt.plot(y)"
   ]
  },
  {
   "cell_type": "code",
   "execution_count": null,
   "metadata": {
    "collapsed": false
   },
   "outputs": [],
   "source": [
    "x = np.linspace(0, np.pi *20, int(np.pi * 100))  # create with more values\n",
    "y1 = np.sin(x)\n",
    "y2 = np.cos(x / 3) / 2\n",
    "plt.plot(y1, 'b')\n",
    "plt.plot(y2, 'g')\n"
   ]
  },
  {
   "cell_type": "markdown",
   "metadata": {},
   "source": [
    "## <font color=\"purple\">Demo: Lissajous Figures</font>"
   ]
  },
  {
   "cell_type": "code",
   "execution_count": null,
   "metadata": {
    "collapsed": false
   },
   "outputs": [],
   "source": [
    "plt.axis('equal')\n",
    "plt.plot(np.sin(x), np.cos(x))"
   ]
  },
  {
   "cell_type": "code",
   "execution_count": null,
   "metadata": {
    "collapsed": false
   },
   "outputs": [],
   "source": [
    "plt.axis('equal')\n",
    "plt.plot(np.sin(2 * x), np.sin(3 * x))"
   ]
  },
  {
   "cell_type": "markdown",
   "metadata": {},
   "source": [
    "## <font color=\"purple\">create using `logspace()` (for logarithmically spaced values</font>"
   ]
  },
  {
   "cell_type": "code",
   "execution_count": null,
   "metadata": {
    "collapsed": false
   },
   "outputs": [],
   "source": [
    "f = np.logspace(1, 6)    # one use is to create logarithmic frequency scale"
   ]
  },
  {
   "cell_type": "markdown",
   "metadata": {},
   "source": [
    "## <font color=\"purple\">Demo: Low Pass Filter Network: </font> $V_{out} = \\frac{1}{RCs + 1} V_{in}$"
   ]
  },
  {
   "cell_type": "markdown",
   "metadata": {},
   "source": [
    "<img src=\"lowpass.png\">"
   ]
  },
  {
   "cell_type": "code",
   "execution_count": null,
   "metadata": {
    "collapsed": false
   },
   "outputs": [],
   "source": [
    "def lowpass(f):\n",
    "    return 1/(R * C * (2 * np.pi * 1j * f) + 1)\n",
    "\n",
    "R = 100      # 100Ω\n",
    "C = 1e-6     # 1 μF\n",
    "\n",
    "response = lowpass(f)\n",
    "\n",
    "plt.subplot(211)\n",
    "plt.title(\"Frequency Response\")\n",
    "plt.xlabel(\"frequency\")\n",
    "plt.ylabel(\"magnitude\")\n",
    "plt.loglog(f, np.abs(response))\n",
    "\n",
    "plt.subplot(212)\n",
    "plt.title(\"Phase Response\")\n",
    "plt.xlabel(\"frequency\")\n",
    "plt.ylabel(\"phase angle\")\n",
    "plt.semilogx(f, np.degrees(np.angle(response)))\n",
    "\n",
    "plt.tight_layout()"
   ]
  },
  {
   "cell_type": "markdown",
   "metadata": {
    "collapsed": true
   },
   "source": [
    "## <font color=\"purple\">create using functions from `random.rand` package</font>"
   ]
  },
  {
   "cell_type": "code",
   "execution_count": null,
   "metadata": {
    "collapsed": false
   },
   "outputs": [],
   "source": [
    "r1 = np.random.random((4, 5))\n",
    "print(r1)"
   ]
  },
  {
   "cell_type": "code",
   "execution_count": null,
   "metadata": {
    "collapsed": false
   },
   "outputs": [],
   "source": [
    "r2 = np.random.randint(0, 10, (4, 5))\n",
    "print(r2)"
   ]
  },
  {
   "cell_type": "markdown",
   "metadata": {},
   "source": [
    "## <font color=\"purple\">Demo: Normal Distribuation</font>"
   ]
  },
  {
   "cell_type": "code",
   "execution_count": null,
   "metadata": {
    "collapsed": false
   },
   "outputs": [],
   "source": [
    "iq = np.random.normal(loc = 100, scale = 20, size = 500 )\n",
    "\n",
    "plt.title(\"Intelligence Quotient\")\n",
    "plt.xlabel(\"IQ\")\n",
    "plt.ylabel(\"Count\")\n",
    "x = plt.hist(iq, bins=10)"
   ]
  },
  {
   "cell_type": "markdown",
   "metadata": {
    "collapsed": true
   },
   "source": [
    "## <font color=\"purple\">creating with `repeat()` and `tile()`, `vstack()`, and `hstack()`</font>\n",
    "+ repeat an existing array a given number of times along a specified axis\n",
    "+ tile an existing array into a specified grid"
   ]
  },
  {
   "cell_type": "code",
   "execution_count": null,
   "metadata": {
    "collapsed": false
   },
   "outputs": [],
   "source": [
    "unit = np.array([[1,  5, -2],\n",
    "                 [-7, 2,  4]])\n",
    "\n",
    "vert = np.repeat(unit, 4, axis = 0)\n",
    "horz = np.repeat(unit, 3, axis = 1)\n",
    "\n",
    "print(\"\\nvrepeat vertical\", vert, sep=\"\\n\")\n",
    "print(\"\\nrepeat horizontal\", horz, sep=\"\\n\")"
   ]
  },
  {
   "cell_type": "code",
   "execution_count": null,
   "metadata": {
    "collapsed": false
   },
   "outputs": [],
   "source": [
    "grid = np.tile(unit, (3, 4))\n",
    "print(\"\\ngrid\", grid, sep=\"\\n\")"
   ]
  },
  {
   "cell_type": "code",
   "execution_count": null,
   "metadata": {
    "collapsed": false
   },
   "outputs": [],
   "source": [
    "row = np.array([3, -2, 8])\n",
    "vstack = np.vstack((unit, row))\n",
    "print(\"\\nvstack\", vstack, sep=\"\\n\")"
   ]
  },
  {
   "cell_type": "code",
   "execution_count": null,
   "metadata": {
    "collapsed": false
   },
   "outputs": [],
   "source": [
    "col = np.array([8, 4])\n",
    "col.shape=(2, 1)\n",
    "hstack = np.hstack((unit, col))\n",
    "print(\"\\nhstack\", hstack, sep=\"\\n\")"
   ]
  },
  {
   "cell_type": "markdown",
   "metadata": {
    "collapsed": true
   },
   "source": [
    "## <font color=\"purple\">creating using `meshgrid()`</font>\n",
    "+ `meshgrid()` takes x and y 'edges'\n",
    "+ returns X grid and Y grid"
   ]
  },
  {
   "cell_type": "code",
   "execution_count": null,
   "metadata": {
    "collapsed": false
   },
   "outputs": [],
   "source": [
    "x_in = np.arange(0, 6)\n",
    "y_in = np.arange(-3, 4)\n",
    "x, y = np.meshgrid(x_in, y_in)\n",
    "print(\"\\nx coordinate value\", x, sep=\"\\n\")\n",
    "print(\"\\ny coordinate value\", y, sep=\"\\n\")"
   ]
  },
  {
   "cell_type": "markdown",
   "metadata": {},
   "source": [
    "## <font color=\"purple\">Demo: contour plot</font>"
   ]
  },
  {
   "cell_type": "code",
   "execution_count": null,
   "metadata": {
    "collapsed": false
   },
   "outputs": [],
   "source": [
    "x_in = np.arange(-np.pi, np.pi, 0.1)\n",
    "y_in = np.arange(-np.pi, np.pi, 0.1)\n",
    "\n",
    "x, y = np.meshgrid(x_in, y_in)\n",
    "z = np.cos(x) * np.sin(y) \n",
    "\n",
    "plt.axis('equal')\n",
    "plt.contour(x,y,z)\n",
    "plt.show()"
   ]
  },
  {
   "cell_type": "code",
   "execution_count": null,
   "metadata": {
    "collapsed": true
   },
   "outputs": [],
   "source": []
  },
  {
   "cell_type": "code",
   "execution_count": null,
   "metadata": {
    "collapsed": true
   },
   "outputs": [],
   "source": []
  }
 ],
 "metadata": {
  "anaconda-cloud": {},
  "kernelspec": {
   "display_name": "Python 3",
   "language": "python",
   "name": "python3"
  },
  "language_info": {
   "codemirror_mode": {
    "name": "ipython",
    "version": 3
   },
   "file_extension": ".py",
   "mimetype": "text/x-python",
   "name": "python",
   "nbconvert_exporter": "python",
   "pygments_lexer": "ipython3",
   "version": "3.4.5"
  }
 },
 "nbformat": 4,
 "nbformat_minor": 1
}
